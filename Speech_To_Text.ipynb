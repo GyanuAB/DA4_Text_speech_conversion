{
  "nbformat": 4,
  "nbformat_minor": 0,
  "metadata": {
    "colab": {
      "name": "Untitled0.ipynb",
      "provenance": [],
      "collapsed_sections": []
    },
    "kernelspec": {
      "name": "python3",
      "display_name": "Python 3"
    }
  },
  "cells": [
    {
      "cell_type": "code",
      "metadata": {
        "id": "UGJopB6KltCr",
        "colab_type": "code",
        "colab": {
          "base_uri": "https://localhost:8080/",
          "height": 34
        },
        "outputId": "f62e3929-efc0-42ff-a48f-b3278dfd67fb"
      },
      "source": [
        "! pip install SpeechRecognition"
      ],
      "execution_count": 20,
      "outputs": [
        {
          "output_type": "stream",
          "text": [
            "Requirement already satisfied: SpeechRecognition in /usr/local/lib/python3.6/dist-packages (3.8.1)\n"
          ],
          "name": "stdout"
        }
      ]
    },
    {
      "cell_type": "code",
      "metadata": {
        "id": "2PSeqvusmAwM",
        "colab_type": "code",
        "colab": {}
      },
      "source": [
        "import speech_recognition as sr"
      ],
      "execution_count": 21,
      "outputs": []
    },
    {
      "cell_type": "code",
      "metadata": {
        "id": "LGRXyqzMmPmf",
        "colab_type": "code",
        "colab": {}
      },
      "source": [
        "r=sr.Recognizer()"
      ],
      "execution_count": 22,
      "outputs": []
    },
    {
      "cell_type": "code",
      "metadata": {
        "id": "W00eFfUumR7B",
        "colab_type": "code",
        "colab": {
          "base_uri": "https://localhost:8080/",
          "height": 34
        },
        "outputId": "0d496e66-d1b5-4afd-9d89-2af456896316"
      },
      "source": [
        "with sr.AudioFile(\"texttospeech.wav\") as source:\n",
        "    audio=r.listen(source)\n",
        "        \n",
        "try:\n",
        "    s=r.recognize_google(audio)\n",
        "    print(\"TEXT:\"+s);\n",
        "except Exception as e:\n",
        "    print(\"Exception:\"+str(e))\n",
        "   "
      ],
      "execution_count": 26,
      "outputs": [
        {
          "output_type": "stream",
          "text": [
            "TEXT:the virus that causes covid-19 is mainly transmitted\n"
          ],
          "name": "stdout"
        }
      ]
    }
  ]
}